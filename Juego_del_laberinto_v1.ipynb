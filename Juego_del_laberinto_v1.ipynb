{
  "nbformat": 4,
  "nbformat_minor": 0,
  "metadata": {
    "colab": {
      "provenance": [],
      "authorship_tag": "ABX9TyPEUBsdBBxiGMBOtUYyK+Nh",
      "include_colab_link": true
    },
    "kernelspec": {
      "name": "python3",
      "display_name": "Python 3"
    },
    "language_info": {
      "name": "python"
    }
  },
  "cells": [
    {
      "cell_type": "markdown",
      "metadata": {
        "id": "view-in-github",
        "colab_type": "text"
      },
      "source": [
        "<a href=\"https://colab.research.google.com/github/heidiqueen1/project_integrador_python/blob/main/Juego_del_laberinto_v1.ipynb\" target=\"_parent\"><img src=\"https://colab.research.google.com/assets/colab-badge.svg\" alt=\"Open In Colab\"/></a>"
      ]
    },
    {
      "cell_type": "code",
      "execution_count": 1,
      "metadata": {
        "id": "oTt3dKYoIICZ",
        "colab": {
          "base_uri": "https://localhost:8080/"
        },
        "outputId": "ea24295e-73c0-49fc-acdd-b2e8c4132154"
      },
      "outputs": [
        {
          "output_type": "stream",
          "name": "stdout",
          "text": [
            "Eres nuestro nuevo jugador?, ingresa tu nombre: Pedro\n",
            " Hola! Pedro Bienvenido a esta aventura \n"
          ]
        }
      ],
      "source": [
        "#Juega al laberinto X\n",
        "\n",
        "jugador = input(\"Eres nuestro nuevo jugador?, ingresa tu nombre: \")\n",
        "\n",
        "print (\" Hola!\", jugador ,\"Bienvenido a esta aventura \")"
      ]
    }
  ]
}